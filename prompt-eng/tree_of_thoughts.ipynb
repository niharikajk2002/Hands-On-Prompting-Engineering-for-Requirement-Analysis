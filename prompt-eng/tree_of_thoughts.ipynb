{
 "cells": [
  {
   "cell_type": "markdown",
   "metadata": {},
   "source": [
    "## **Tree-of-Thought Prompting (ToT)**  \n",
    "\n",
    "Tree-of-Thought (ToT) prompting extends the capabilities of Chain-of-Thought (CoT) by allowing AI models to explore multiple reasoning pathways instead of following a single linear thought process. It is particularly effective for decision-making, problem-solving, and creative exploration, where evaluating multiple options is crucial.  \n",
    "\n",
    "## **Automatic Tree-of-Thought (Auto-ToT)**  \n",
    "\n",
    "Manually designing diverse and effective ToT structures can be complex and time-consuming. To address this, **Auto-ToT** automates the generation and evaluation of multiple reasoning paths, ensuring the AI explores different solutions before selecting the optimal one. This method enhances flexibility and adaptability, making it ideal for applications such as career counseling, strategic planning, and AI-driven research.  \n",
    "\n",
    "Auto-ToT operates in three main stages:  \n",
    "\n",
    "1. **Generating Thought Branches:** The AI produces multiple potential reasoning paths for solving a problem.  \n",
    "2. **Evaluating Each Path:** Each branch is assessed based on predefined criteria (e.g., relevance, correctness, efficiency).  \n",
    "3. **Selecting the Best Path:** The model chooses the reasoning chain that provides the most accurate or useful response.  \n",
    "\n"
   ]
  },
  {
   "cell_type": "code",
   "execution_count": null,
   "metadata": {},
   "outputs": [
    {
     "name": "stdout",
     "output_type": "stream",
     "text": [
      "{'model': 'llama3.2:latest', 'prompt': \"\\nProvide a requirement analysis for building an AI-powered career counseling assistant that uses Tree of Thoughts (TOT). The assistant should take the user's inputs (skills, interests, career goals) and generate multiple pathways, each corresponding to different career options, educational choices, or job roles. Each pathway should branch out into further options, and the assistant should evaluate the pros and cons of each branch, helping the user choose the best path based on their preferences. For example:\\n\\nPathway 1: Software development, specializing in front-end technologies.\\nPathway 2: Data science, focusing on machine learning and analytics.\\nPathway 3: Cybersecurity, concentrating on ethical hacking and network security. \\n\\nThe assistant should continuously refine the pathways based on user feedback and career progress, ensuring personalized, adaptable career guidance.\\n\", 'stream': False, 'options': {'temperature': 1.0, 'num_ctx': 100, 'num_predict': 50}}\n",
      "Here is a more detailed outline of how I can help with providing personalized career guidance:\n",
      "\n",
      "**Initial Setup**\n",
      "\n",
      "*   Provide three different career pathways (as you mentioned: Cybersecurity, Data Science, Digital Marketing)\n",
      "*   Ask the user to choose their\n",
      "Time taken: 31.309s\n"
     ]
    }
   ],
   "source": [
    "\n",
    "from _pipeline import create_payload, model_req\n",
    "\n",
    "\n",
    "PROMPT = f\"\"\"\n",
    "Provide a requirement analysis for building an AI-powered career counseling assistant that uses Tree of Thoughts (TOT). The assistant should take the user's inputs (skills, interests, career goals) and generate multiple pathways, each corresponding to different career options, educational choices, or job roles. Each pathway should branch out into further options, and the assistant should evaluate the pros and cons of each branch, helping the user choose the best path based on their preferences. For example:\n",
    "\n",
    "Pathway 1: Software development, specializing in front-end technologies.\n",
    "Pathway 2: Data science, focusing on machine learning and analytics.\n",
    "Pathway 3: Cybersecurity, concentrating on ethical hacking and network security. \n",
    "\n",
    "The assistant should continuously refine the pathways based on user feedback and career progress, ensuring personalized, adaptable career guidance.\n",
    "\"\"\"\n",
    "\n",
    "\n",
    "payload = create_payload(target=\"ollama\",\n",
    "                         model=\"llama3.2:latest\", \n",
    "                         prompt=PROMPT, \n",
    "                         temperature=1.0, \n",
    "                         num_ctx=100, \n",
    "                         num_predict=50)\n",
    "\n",
    "time, response = model_req(payload=payload)\n",
    "print(response)\n",
    "if time: print(f'Time taken: {time}s')\n"
   ]
  },
  {
   "cell_type": "code",
   "execution_count": null,
   "metadata": {},
   "outputs": [],
   "source": []
  }
 ],
 "metadata": {
  "kernelspec": {
   "display_name": "Python 3",
   "language": "python",
   "name": "python3"
  },
  "language_info": {
   "codemirror_mode": {
    "name": "ipython",
    "version": 3
   },
   "file_extension": ".py",
   "mimetype": "text/x-python",
   "name": "python",
   "nbconvert_exporter": "python",
   "pygments_lexer": "ipython3",
   "version": "3.13.2"
  }
 },
 "nbformat": 4,
 "nbformat_minor": 2
}
