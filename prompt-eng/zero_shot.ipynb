{
 "cells": [
  {
   "cell_type": "markdown",
   "metadata": {},
   "source": [
    "\n",
    "\n"
   ]
  },
  {
   "cell_type": "markdown",
   "metadata": {},
   "source": [
    "# Zero-Shot Prompting\n",
    "\n",
    "Zero-shot prompting refers to a technique in prompt engineering where you provide a model with a task without any prior examples. The model is expected to understand and generate a response or complete the task purely based on the given instruction.\n",
    "\n",
    "In other words, the model is given \"zero\" prior training examples or demonstrations in the prompt and relies on its pre-trained knowledge to infer what is needed.\n",
    "\n",
    "## References:\n",
    "* [Wei et al. (2022)](https://arxiv.org/pdf/2109.01652.pdf): demonstrate how instruction tuning improves zero-shot learning "
   ]
  },
  {
   "cell_type": "code",
   "execution_count": null,
   "metadata": {},
   "outputs": [
    {
     "name": "stdout",
     "output_type": "stream",
     "text": [
      "{'model': 'llama3.2:latest', 'prompt': \"Provide a requirement analysis for building an AI-powered career counseling assistant that uses Zero-Shot Prompting. The assistant should be able to respond accurately to queries without requiring specific training examples. For example, if a user asks:\\n\\n'What are the best career options in the field of Artificial Intelligence?'\\nThe assistant should provide an accurate response based on general knowledge and trends without needing prior examples. The assistant should rely on general knowledge, leveraging its pre-existing information about career trends, industries, and required skills to deliver the best possible answer.\\n\", 'stream': False, 'options': {'temperature': 1.0, 'num_ctx': 100, 'num_predict': 100}}\n",
      "To achieve this level of accuracy, I'll focus on providing a response that is informed by general knowledge and trends in the field. Here's my attempt:\n",
      "\n",
      "**Career Options in [Industry/Field]**\n",
      "\n",
      "The [industry/field] is rapidly evolving, offering numerous career opportunities for professionals with diverse skill sets. Some of the top career options in this field include:\n",
      "\n",
      "1. **Data Scientist**: With the increasing reliance on data-driven decision-making, data scientists are in high demand. They design and implement\n",
      "Time taken: 51.359s\n"
     ]
    }
   ],
   "source": [
    "\n",
    "from _pipeline import create_payload, model_req\n",
    " \n",
    "PROMPT = f\"\"\"Provide a requirement analysis for building an AI-powered career counseling assistant that uses Zero-Shot Prompting. The assistant should be able to respond accurately to queries without requiring specific training examples. For example, if a user asks:\n",
    "\n",
    "'What are the best career options in the field of Artificial Intelligence?'\n",
    "The assistant should provide an accurate response based on general knowledge and trends without needing prior examples. The assistant should rely on general knowledge, leveraging its pre-existing information about career trends, industries, and required skills to deliver the best possible answer.\n",
    "\"\"\"\n",
    "\n",
    "payload = create_payload(target=\"ollama\",\n",
    "                         model=\"llama3.2:latest\", \n",
    "                         prompt=PROMPT, \n",
    "                         temperature=1.0, \n",
    "                         num_ctx=100, \n",
    "                         num_predict=100)\n",
    "\n",
    "\n",
    "time, response = model_req(payload=payload)\n",
    "print(response)\n",
    "if time: print(f'Time taken: {time}s')"
   ]
  },
  {
   "cell_type": "markdown",
   "metadata": {},
   "source": [
    "---\n",
    "\n",
    "## How to improve it?\n",
    "\n",
    "* **Use Clear and Concise Instructions**: Be specific about the task and desired format.\n",
    "    * Bad Prompt: “Summarize this.”\n",
    "    * Good Prompt: “Summarize this paragraph in one sentence.”\n",
    "* **Add Context**: Providing background can help the model interpret ambiguous prompts better.\n",
    "* **Specify Output Format**: If a particular structure is needed, describe it in the instruction."
   ]
  },
  {
   "cell_type": "markdown",
   "metadata": {},
   "source": []
  }
 ],
 "metadata": {
  "kernelspec": {
   "display_name": "Python 3",
   "language": "python",
   "name": "python3"
  },
  "language_info": {
   "codemirror_mode": {
    "name": "ipython",
    "version": 3
   },
   "file_extension": ".py",
   "mimetype": "text/x-python",
   "name": "python",
   "nbconvert_exporter": "python",
   "pygments_lexer": "ipython3",
   "version": "3.13.2"
  }
 },
 "nbformat": 4,
 "nbformat_minor": 2
}
