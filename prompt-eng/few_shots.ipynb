{
 "cells": [
  {
   "cell_type": "markdown",
   "metadata": {},
   "source": [
    "\n",
    "\n"
   ]
  },
  {
   "cell_type": "markdown",
   "metadata": {},
   "source": [
    "# Few-Shots Prompting\n",
    "\n",
    "Few-shot prompting can be used as a technique to enable in-context learning where we provide demonstrations in the prompt to steer the model to better performance. The demonstrations serve as conditioning for subsequent examples where we would like the model to generate a response.\n",
    "\n",
    "## References:\n",
    "* [Touvron et al. 2023](https://arxiv.org/pdf/2302.13971.pdf): present few shot properties  when models were scaled to a sufficient size\n",
    "* [Kaplan et al., 2020](https://arxiv.org/abs/2001.08361)\n",
    "* [Brown et al. 2020](https://arxiv.org/abs/2005.14165)\n"
   ]
  },
  {
   "cell_type": "markdown",
   "metadata": {},
   "source": [
    "## Running this code on MyBind.org\n",
    "\n",
    "Note: remember that you will need to **adjust CONFIG** with **proper URL and API_KEY**!\n",
    "\n",
    "[![Binder](https://mybinder.org/badge_logo.svg)](https://mybinder.org/v2/gh/GenILab-FAU/prompt-eng/HEAD?urlpath=%2Fdoc%2Ftree%2Fprompt-eng%2Ffew_shots.ipynb)\n",
    "\n"
   ]
  },
  {
   "cell_type": "code",
   "execution_count": null,
   "metadata": {},
   "outputs": [
    {
     "name": "stdout",
     "output_type": "stream",
     "text": [
      "{'model': 'llama3.2:latest', 'prompt': \"\\nProvide a requirement analysis for building an AI-powered career counseling assistant that uses Few-Shot Prompting. The assistant should be trained with a few example queries and responses to provide accurate career advice. For example:\\n\\nUser: 'What career options are available for someone skilled in machine learning?'\\nBot: 'You could explore roles like Data Scientist, AI Engineer, or Machine Learning Specialist.'\\nUser: 'What skills are required for a career in data science?'\\nBot: 'You will need proficiency in programming languages like Python or R, a good understanding of statistics, machine learning algorithms, and data visualization tools such as Tableau or Power BI.'\\nUser: 'How can I prepare for a career in software development?'\\nBot: 'Focus on learning software engineering principles, programming languages like Java, C++, or Python, and get hands-on experience with frameworks and tools like Git, Docker, and cloud computing platforms.'\\nThe assistant should learn from a small number of examples and adapt to provide personalized advice based on the user's skills, goals, and interests.\\n\", 'stream': False, 'options': {'temperature': 0.7, 'num_ctx': 70, 'num_predict': 100}}\n",
      "Here is an example of how this assistant could be implemented:\n",
      "\n",
      "**Architecture**\n",
      "\n",
      "1. **Knowledge Graph**: A large knowledge graph that stores information about various programming concepts, syntax, data structures, algorithms, and more.\n",
      "2. **Natural Language Processing (NLP)**: An NLP module that processes user input and generates responses based on the processed output.\n",
      "3. **Knowledge Retrieval**: A system that retrieves relevant information from the knowledge base to provide accurate answers.\n",
      "\n",
      "Here's a basic example of how\n",
      "Time taken: 27.776s\n"
     ]
    }
   ],
   "source": [
    "\n",
    "from _pipeline import create_payload, model_req\n",
    "\n",
    "from _pipeline import create_payload, model_req\n",
    "\n",
    "FEW_SHOT = \\\n",
    "f\"\"\"\n",
    "Provide a requirement analysis for building an AI-powered career counseling assistant that uses Few-Shot Prompting. The assistant should be trained with a few example queries and responses to provide accurate career advice. For example:\n",
    "\n",
    "User: 'What career options are available for someone skilled in machine learning?'\n",
    "Bot: 'You could explore roles like Data Scientist, AI Engineer, or Machine Learning Specialist.'\n",
    "User: 'What skills are required for a career in data science?'\n",
    "Bot: 'You will need proficiency in programming languages like Python or R, a good understanding of statistics, machine learning algorithms, and data visualization tools such as Tableau or Power BI.'\n",
    "User: 'How can I prepare for a career in software development?'\n",
    "Bot: 'Focus on learning software engineering principles, programming languages like Java, C++, or Python, and get hands-on experience with frameworks and tools like Git, Docker, and cloud computing platforms.'\n",
    "The assistant should learn from a small number of examples and adapt to provide personalized advice based on the user's skills, goals, and interests.\n",
    "\"\"\"\n",
    "\n",
    "PROMPT = FEW_SHOT  \n",
    "\n",
    "payload = create_payload(target=\"ollama\",\n",
    "                         model=\"llama3.2:latest\", \n",
    "                         prompt=PROMPT, \n",
    "                         temperature=0.7, \n",
    "                         num_ctx=70, \n",
    "                         num_predict=100)\n",
    "\n",
    "time, response = model_req(payload=payload)\n",
    "print(response)\n",
    "if time: print(f'Time taken: {time}s')"
   ]
  },
  {
   "cell_type": "code",
   "execution_count": null,
   "metadata": {},
   "outputs": [],
   "source": []
  }
 ],
 "metadata": {
  "kernelspec": {
   "display_name": "Python 3",
   "language": "python",
   "name": "python3"
  },
  "language_info": {
   "codemirror_mode": {
    "name": "ipython",
    "version": 3
   },
   "file_extension": ".py",
   "mimetype": "text/x-python",
   "name": "python",
   "nbconvert_exporter": "python",
   "pygments_lexer": "ipython3",
   "version": "3.13.2"
  }
 },
 "nbformat": 4,
 "nbformat_minor": 2
}
