{
 "cells": [
  {
   "cell_type": "code",
   "execution_count": 1,
   "metadata": {},
   "outputs": [
    {
     "name": "stdout",
     "output_type": "stream",
     "text": [
      "{'model': 'llama3.2:latest', 'prompt': 'Create an AI-powered career counseling assistant using Prompt Chaining that guides users through decision-making by asking interrelated questions, such as interests, career suggestions, salary details, and relevant certifications, with each prompt building on the previous one.', 'stream': False, 'options': {'temperature': 0.7, 'num_ctx': 100, 'num_predict': 50}}\n",
      "Here is a basic outline of how to create an AI-powered career counseling assistant using Prompt Chaining:\n",
      "\n",
      "1. **Define the Goals and Scope**: Determine what the career counseling assistant should be able to do, such as provide personalized job recommendations based on user\n",
      "{'model': 'llama3.2:latest', 'prompt': \"Refine the assistant's prompts to enhance user experience by ensuring clarity, encouraging detailed responses, providing personalized career advice, and suggesting relevant skills, certifications, and salary information.\\nHere is a basic outline of how to create an AI-powered career counseling assistant using Prompt Chaining:\\n\\n1. **Define the Goals and Scope**: Determine what the career counseling assistant should be able to do, such as provide personalized job recommendations based on user\", 'stream': False, 'options': {'temperature': 0.7, 'num_ctx': 100, 'num_predict': 10}}\n",
      "1. **Define the Goals and Scope**: Determine\n",
      "Time taken: 14.212s\n"
     ]
    }
   ],
   "source": [
    "##\n",
    "## PROMPT CHAINING - NUTRITION & FITNESS BOT\n",
    "##\n",
    "\n",
    "from _pipeline import create_payload, model_req\n",
    "\n",
    "# Define the initial prompts\n",
    "FIRST_PROMPT = \"Create an AI-powered career counseling assistant using Prompt Chaining that guides users through decision-making by asking interrelated questions, such as interests, career suggestions, salary details, and relevant certifications, with each prompt building on the previous one.\"\n",
    "\n",
    "SECOND_PROMPT = \"Refine the assistant's prompts to enhance user experience by ensuring clarity, encouraging detailed responses, providing personalized career advice, and suggesting relevant skills, certifications, and salary information.\"\n",
    "\n",
    "# Create the first payload\n",
    "payload_1 = create_payload(target=\"ollama\",\n",
    "                           model=\"llama3.2:latest\", \n",
    "                           prompt=FIRST_PROMPT, \n",
    "                           temperature=0.7, \n",
    "                           num_ctx=100, \n",
    "                           num_predict=50)\n",
    "\n",
    "# Get the first response\n",
    "time, response_1 = model_req(payload=payload_1)\n",
    "print(response_1)\n",
    "\n",
    "# Create the second payload based on the first response\n",
    "payload_2 = create_payload(target=\"ollama\",\n",
    "                           model=\"llama3.2:latest\", \n",
    "                           prompt=f\"{SECOND_PROMPT}\\n{response_1}\", \n",
    "                           temperature=0.7, \n",
    "                           num_ctx=100, \n",
    "                           num_predict=10)\n",
    "\n",
    "# Get the second response\n",
    "time, response_2 = model_req(payload=payload_2)\n",
    "print(response_2)\n",
    "\n",
    "# Print execution time if available\n",
    "if time: \n",
    "    print(f'Time taken: {time}s')\n"
   ]
  },
  {
   "cell_type": "code",
   "execution_count": null,
   "metadata": {},
   "outputs": [],
   "source": []
  }
 ],
 "metadata": {
  "kernelspec": {
   "display_name": "Python 3",
   "language": "python",
   "name": "python3"
  },
  "language_info": {
   "codemirror_mode": {
    "name": "ipython",
    "version": 3
   },
   "file_extension": ".py",
   "mimetype": "text/x-python",
   "name": "python",
   "nbconvert_exporter": "python",
   "pygments_lexer": "ipython3",
   "version": "3.13.2"
  }
 },
 "nbformat": 4,
 "nbformat_minor": 2
}
