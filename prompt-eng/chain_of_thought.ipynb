{
 "cells": [
  {
   "cell_type": "markdown",
   "metadata": {},
   "source": [
    "\n",
    "\n"
   ]
  },
  {
   "cell_type": "markdown",
   "metadata": {},
   "source": [
    "# Chain-of-Thought Prompting\n",
    "\n",
    "Chain-of-Thought (CoT) prompting enhances complex reasoning by encouraging the model to break down problems into intermediate reasoning steps. When combined with few-shot prompting, it can significantly improve performance on tasks that require multi-step reasoning before arriving at a response.\n",
    "\n",
    "## Automatic Chain-of-Thought (Auto-CoT)\n",
    "\n",
    "Traditionally, using CoT prompting with demonstrations involves manually crafting diverse and effective examples. This manual effort is time-consuming and can lead to less-than-optimal results. To address this, Zhang et al. (2022) introduced Auto-CoT, an automated approach that minimizes manual involvement. Their method uses the prompt “Let’s think step by step” to generate reasoning chains automatically for demonstrations. However, this automatic process is not immune to errors. To reduce the impact of such mistakes, the approach emphasizes the importance of diverse demonstrations.\n",
    "\n",
    "Auto-CoT operates in two main stages:\n",
    "\n",
    "1. **Question Clustering:** Questions from the dataset are grouped into clusters based on similarity or relevance.\n",
    "2. **Demonstration Sampling:** A representative question from each cluster is selected, and its reasoning chain is generated using Zero-Shot-CoT guided by simple heuristics.\n",
    "\n",
    "\n",
    "## References:\n",
    "\n",
    "* (Wei et al. (2022),)[https://arxiv.org/abs/2201.11903]\n",
    "* (OpenAI Documentation for Prompt Engineering)[https://platform.openai.com/docs/guides/prompt-engineering]"
   ]
  },
  {
   "cell_type": "markdown",
   "metadata": {},
   "source": [
    "## Running this code on MyBind.org\n",
    "\n",
    "Note: remember that you will need to **adjust CONFIG** with **proper URL and API_KEY**!\n",
    "\n",
    "[![Binder](https://mybinder.org/badge_logo.svg)](https://mybinder.org/v2/gh/GenILab-FAU/prompt-eng/HEAD?urlpath=%2Fdoc%2Ftree%2Fprompt-eng%2Fchain_of_thought.ipynb)\n"
   ]
  },
  {
   "cell_type": "code",
   "execution_count": null,
   "metadata": {},
   "outputs": [
    {
     "name": "stdout",
     "output_type": "stream",
     "text": [
      "{'model': 'llama3.2', 'prompt': \"\\nProvide a requirement analysis for building an AI-powered career counseling assistant that uses Chain of Thought (COT). The assistant should guide users through career decision-making by reasoning step-by-step about their skills, interests, education, and job market trends. For example, if a user asks for career guidance, the assistant should:\\n\\nStep 1: Gather details about the user's skills, education, and interests.\\nStep 2: Analyze job market trends and demand for relevant skills.\\nStep 3: Suggest potential career paths aligned with the user's background.\\nStep 4: Recommend skill-building resources and job search strategies.\\n\\nThe assistant should maintain transparency and provide clear justifications for every career recommendation.\", 'stream': False, 'options': {'temperature': 0.7, 'num_ctx': 20, 'num_predict': 30}}\n",
      "Here are some career recommendations, along with a brief description of each job and its required skills:\n",
      "\n",
      "**Job 1: Data Analyst**\n",
      "\n",
      "* Job Description\n",
      "Time taken: 13.025s\n"
     ]
    }
   ],
   "source": [
    "\n",
    "from _pipeline import create_payload, model_req\n",
    "\n",
    "CHAIN_OF_THOUGHT = \\\n",
    "f\"\"\"\n",
    "Provide a requirement analysis for building an AI-powered career counseling assistant that uses Chain of Thought (COT). The assistant should guide users through career decision-making by reasoning step-by-step about their skills, interests, education, and job market trends. For example, if a user asks for career guidance, the assistant should:\n",
    "\n",
    "Step 1: Gather details about the user's skills, education, and interests.\n",
    "Step 2: Analyze job market trends and demand for relevant skills.\n",
    "Step 3: Suggest potential career paths aligned with the user's background.\n",
    "Step 4: Recommend skill-building resources and job search strategies.\n",
    "\n",
    "The assistant should maintain transparency and provide clear justifications for every career recommendation.\"\"\"\n",
    "PROMPT = CHAIN_OF_THOUGHT \n",
    "\n",
    "payload = create_payload(target=\"ollama\",\n",
    "                         model=\"llama3.2\", \n",
    "                         prompt=PROMPT, \n",
    "                         temperature=0.7, \n",
    "                         num_ctx=20, \n",
    "                         num_predict=30)\n",
    "\n",
    "\n",
    "time, response = model_req(payload=payload)\n",
    "print(response)\n",
    "if time: print(f'Time taken: {time}s')"
   ]
  },
  {
   "cell_type": "code",
   "execution_count": null,
   "metadata": {},
   "outputs": [],
   "source": []
  },
  {
   "cell_type": "code",
   "execution_count": null,
   "metadata": {},
   "outputs": [],
   "source": []
  }
 ],
 "metadata": {
  "kernelspec": {
   "display_name": "Python 3",
   "language": "python",
   "name": "python3"
  },
  "language_info": {
   "codemirror_mode": {
    "name": "ipython",
    "version": 3
   },
   "file_extension": ".py",
   "mimetype": "text/x-python",
   "name": "python",
   "nbconvert_exporter": "python",
   "pygments_lexer": "ipython3",
   "version": "3.13.2"
  }
 },
 "nbformat": 4,
 "nbformat_minor": 2
}
