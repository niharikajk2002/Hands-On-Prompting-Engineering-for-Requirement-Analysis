{
 "cells": [
  {
   "cell_type": "code",
   "execution_count": 1,
   "metadata": {},
   "outputs": [
    {
     "name": "stdout",
     "output_type": "stream",
     "text": [
      "{'model': 'llama3.2:latest', 'prompt': \"\\nProvide a requirement analysis for building an AI-powered career counseling assistant that uses General Knowledge Prompting. The assistant should draw on a broad knowledge base of job market trends, career options, and professional skills to answer user queries. For example:\\n\\nUser: 'What are the benefits of pursuing a career in cybersecurity?'\\nBot: 'Cybersecurity is a rapidly growing field due to the increasing frequency and complexity of cyberattacks. It offers high job demand, excellent salary potential, and a variety of roles such as cybersecurity analyst, penetration tester, and security architect. Professionals in this field need skills in network security, encryption, threat analysis, and risk management.'\\nUser: 'What skills are needed to become a software engineer?'\\nBot: 'To become a software engineer, you should be proficient in programming languages such as Python, Java, or C++. A good understanding of data structures, algorithms, and software development principles is essential. Additionally, skills in version control (e.g., Git), problem-solving, and teamwork are valuable.'\\nUser: 'What are the career prospects in data science?'\\nBot: 'Data science is a booming field with roles such as data scientist, data analyst, and machine learning engineer. The demand for professionals in data science is high due to the need for data-driven decision-making across industries. Essential skills include proficiency in Python or R, knowledge of machine learning algorithms, statistics, and data visualization tools like Tableau or Power BI.'\\nThe assistant should use established knowledge about job trends, required skills, and salary expectations to provide users with well-rounded career advice.\\n\", 'stream': False, 'options': {'temperature': 0.7, 'num_ctx': 50, 'num_predict': 50}}\n",
      "Here's a potential response:\n",
      "\n",
      "**Career Advice: Data Scientist**\n",
      "\n",
      "Are you considering a career as a data scientist? With the increasing demand for data-driven decision-making in various industries, this field is expected to continue growing. As a data scientist, your\n",
      "Time taken: 17.866s\n"
     ]
    }
   ],
   "source": [
    "##\n",
    "## GENERATE KNOWLEDGE PROMPTING - NUTRITION & FITNESS BOT\n",
    "##\n",
    "\n",
    "from _pipeline import create_payload, model_req\n",
    "\n",
    "MESSAGE = \"Which is healthier for weight loss: brown rice or quinoa?\"\n",
    "\n",
    "PROMPT = f\"\"\"\n",
    "Provide a requirement analysis for building an AI-powered career counseling assistant that uses General Knowledge Prompting. The assistant should draw on a broad knowledge base of job market trends, career options, and professional skills to answer user queries. For example:\n",
    "\n",
    "User: 'What are the benefits of pursuing a career in cybersecurity?'\n",
    "Bot: 'Cybersecurity is a rapidly growing field due to the increasing frequency and complexity of cyberattacks. It offers high job demand, excellent salary potential, and a variety of roles such as cybersecurity analyst, penetration tester, and security architect. Professionals in this field need skills in network security, encryption, threat analysis, and risk management.'\n",
    "User: 'What skills are needed to become a software engineer?'\n",
    "Bot: 'To become a software engineer, you should be proficient in programming languages such as Python, Java, or C++. A good understanding of data structures, algorithms, and software development principles is essential. Additionally, skills in version control (e.g., Git), problem-solving, and teamwork are valuable.'\n",
    "User: 'What are the career prospects in data science?'\n",
    "Bot: 'Data science is a booming field with roles such as data scientist, data analyst, and machine learning engineer. The demand for professionals in data science is high due to the need for data-driven decision-making across industries. Essential skills include proficiency in Python or R, knowledge of machine learning algorithms, statistics, and data visualization tools like Tableau or Power BI.'\n",
    "The assistant should use established knowledge about job trends, required skills, and salary expectations to provide users with well-rounded career advice.\n",
    "\"\"\"\n",
    "\n",
    "payload = create_payload(target=\"ollama\",\n",
    "                         model=\"llama3.2:latest\", \n",
    "                         prompt=PROMPT, \n",
    "                         temperature=0.7, \n",
    "                         num_ctx=50, \n",
    "                         num_predict=50)\n",
    "\n",
    "time, response = model_req(payload=payload)\n",
    "print(response)\n",
    "if time: print(f'Time taken: {time}s')\n"
   ]
  },
  {
   "cell_type": "code",
   "execution_count": null,
   "metadata": {},
   "outputs": [],
   "source": []
  }
 ],
 "metadata": {
  "kernelspec": {
   "display_name": "Python 3",
   "language": "python",
   "name": "python3"
  },
  "language_info": {
   "codemirror_mode": {
    "name": "ipython",
    "version": 3
   },
   "file_extension": ".py",
   "mimetype": "text/x-python",
   "name": "python",
   "nbconvert_exporter": "python",
   "pygments_lexer": "ipython3",
   "version": "3.13.2"
  }
 },
 "nbformat": 4,
 "nbformat_minor": 2
}
