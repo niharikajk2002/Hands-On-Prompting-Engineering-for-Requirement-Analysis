{
 "cells": [
  {
   "cell_type": "markdown",
   "metadata": {},
   "source": [
    "## **Contrastive Prompting**  \n",
    "\n",
    "Contrastive Prompting is a method that focuses on drawing comparisons between two or more concepts, options, or ideas to highlight the differences and similarities, thereby assisting in more informed decision-making. This technique is especially useful in tasks where a user must choose between two or more alternatives, such as career options, products, or strategic decisions. Contrastive Prompting enables the AI model to evaluate the pros and cons of different choices, providing a clear, comparative analysis.\n",
    "\n",
    "## **Automatic Contrastive Prompting (Auto-CP)**  \n",
    "\n",
    "Manually designing contrastive prompts can be inefficient, especially when the task involves evaluating numerous options or ideas. **Auto-CP** automates the generation of contrastive comparisons by dynamically constructing prompts that focus on direct and structured contrasts between choices. This ensures that the AI delivers balanced, precise, and relevant evaluations, guiding the user towards well-informed decisions.\n",
    "\n",
    "Auto-CP operates in two main stages:  \n",
    "\n",
    "1. **Extracting Key Comparison Criteria:** The system identifies the most important attributes or features to compare, such as skills required, salary expectations, job growth, etc.  \n",
    "2. **Generating Structured Contrastive Responses:** The model generates side-by-side evaluations of the choices based on the extracted criteria, helping the user understand the relative advantages and disadvantages of each option.\n",
    " "
   ]
  },
  {
   "cell_type": "code",
   "execution_count": null,
   "metadata": {},
   "outputs": [
    {
     "name": "stdout",
     "output_type": "stream",
     "text": [
      "{'model': 'llama3.2:latest', 'prompt': \"\\nProvide a requirement analysis for building an AI-powered career counseling assistant that uses Contrastive Prompting. The assistant should compare two or more career paths, job roles, or educational choices and contrast their merits. For example, when asked about the difference between two career options or two fields of study, the assistant should provide a clear and detailed comparison based on factors such as job market demand, required skills, salary trends, and long-term career growth. For example:\\n\\nUser asks: 'Which is better for a career in tech, Data Science or Software Engineering?'\\nBot responds by contrasting both career paths, outlining how Data Science focuses on data analysis and machine learning, while Software Engineering focuses on coding and application development, and the pros and cons of each option based on the user's skills, interests, and goals. The assistant should help the user make an informed decision by offering insights into the skills required, job opportunities, salary potential, and growth prospects for each career path.\\n\", 'stream': False, 'options': {'temperature': 1.0, 'num_ctx': 50, 'num_predict': 50}}\n",
      "Here's a more detailed outline of how to create a tool that provides information on various career paths:\n",
      "\n",
      "**Career Path Information Tool**\n",
      "\n",
      "**Overview**\n",
      "\n",
      "The Career Path Information Tool is designed to provide users with comprehensive information about various career paths. The tool aims\n",
      "Time taken: 20.805s\n"
     ]
    }
   ],
   "source": [
    "\n",
    "from _pipeline import create_payload, model_req\n",
    "\n",
    "PROMPT = f\"\"\"\n",
    "Provide a requirement analysis for building an AI-powered career counseling assistant that uses Contrastive Prompting. The assistant should compare two or more career paths, job roles, or educational choices and contrast their merits. For example, when asked about the difference between two career options or two fields of study, the assistant should provide a clear and detailed comparison based on factors such as job market demand, required skills, salary trends, and long-term career growth. For example:\n",
    "\n",
    "User asks: 'Which is better for a career in tech, Data Science or Software Engineering?'\n",
    "Bot responds by contrasting both career paths, outlining how Data Science focuses on data analysis and machine learning, while Software Engineering focuses on coding and application development, and the pros and cons of each option based on the user's skills, interests, and goals. The assistant should help the user make an informed decision by offering insights into the skills required, job opportunities, salary potential, and growth prospects for each career path.\n",
    "\"\"\"\n",
    "\n",
    "\n",
    "payload = create_payload(target=\"ollama\",\n",
    "                         model=\"llama3.2:latest\", \n",
    "                         prompt=PROMPT, \n",
    "                         temperature=1.0, \n",
    "                         num_ctx=50, \n",
    "                         num_predict=50)\n",
    "\n",
    "time, response = model_req(payload=payload)\n",
    "print(response)\n",
    "if time: print(f'Time taken: {time}s')\n"
   ]
  },
  {
   "cell_type": "markdown",
   "metadata": {},
   "source": [
    "**Contrastive Prompting - Nutrition & Fitness Bot**\n",
    "(A New Prompt Engineering Technique Not Listed Above!)\n",
    "Contrastive prompting involves presenting multiple possible answers and having the model contrast them to determine the best one."
   ]
  },
  {
   "cell_type": "markdown",
   "metadata": {},
   "source": []
  },
  {
   "cell_type": "markdown",
   "metadata": {},
   "source": [
    "Why Use Contrastive Prompting?\n",
    "✅ Helps users compare two or more choices effectively.\n",
    "✅ Encourages the model to weigh pros and cons before giving an answer.\n",
    "✅ Enhances decision-making by offering side-by-side comparisons."
   ]
  },
  {
   "cell_type": "markdown",
   "metadata": {},
   "source": []
  }
 ],
 "metadata": {
  "kernelspec": {
   "display_name": "Python 3",
   "language": "python",
   "name": "python3"
  },
  "language_info": {
   "codemirror_mode": {
    "name": "ipython",
    "version": 3
   },
   "file_extension": ".py",
   "mimetype": "text/x-python",
   "name": "python",
   "nbconvert_exporter": "python",
   "pygments_lexer": "ipython3",
   "version": "3.13.2"
  }
 },
 "nbformat": 4,
 "nbformat_minor": 2
}
